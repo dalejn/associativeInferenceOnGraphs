{
 "cells": [
  {
   "cell_type": "markdown",
   "metadata": {},
   "source": [
    "## Graphwalk Model\n",
    "\n",
    "230513: Parse the model info and build a plot of the results\n",
    "\n",
    "Q's @ Keiland: kwcooper@uci.edu"
   ]
  },
  {
   "cell_type": "code",
   "execution_count": 2,
   "metadata": {},
   "outputs": [],
   "source": [
    "import numpy as np\n",
    "import matplotlib.pyplot as plt\n",
    "import pandas as pd\n",
    "import os"
   ]
  },
  {
   "cell_type": "code",
   "execution_count": 3,
   "metadata": {},
   "outputs": [
    {
     "data": {
      "text/html": [
       "<div>\n",
       "<style scoped>\n",
       "    .dataframe tbody tr th:only-of-type {\n",
       "        vertical-align: middle;\n",
       "    }\n",
       "\n",
       "    .dataframe tbody tr th {\n",
       "        vertical-align: top;\n",
       "    }\n",
       "\n",
       "    .dataframe thead th {\n",
       "        text-align: right;\n",
       "    }\n",
       "</style>\n",
       "<table border=\"1\" class=\"dataframe\">\n",
       "  <thead>\n",
       "    <tr style=\"text-align: right;\">\n",
       "      <th></th>\n",
       "      <th>I</th>\n",
       "      <th>task</th>\n",
       "      <th>L2</th>\n",
       "      <th>1</th>\n",
       "      <th>2</th>\n",
       "      <th>3</th>\n",
       "      <th>4</th>\n",
       "      <th>end_loss</th>\n",
       "      <th>mID</th>\n",
       "      <th>weight_name</th>\n",
       "      <th>path</th>\n",
       "    </tr>\n",
       "  </thead>\n",
       "  <tbody>\n",
       "    <tr>\n",
       "      <th>0</th>\n",
       "      <td>0</td>\n",
       "      <td>I</td>\n",
       "      <td>6</td>\n",
       "      <td>44.811321</td>\n",
       "      <td>50.000000</td>\n",
       "      <td>45.454545</td>\n",
       "      <td>78.571429</td>\n",
       "      <td>0.0114</td>\n",
       "      <td>0</td>\n",
       "      <td>I_6_0.pt</td>\n",
       "      <td>/home/k/DATA/graphwalk/torchweights_v2/I_6_0.pt</td>\n",
       "    </tr>\n",
       "    <tr>\n",
       "      <th>1</th>\n",
       "      <td>1</td>\n",
       "      <td>I</td>\n",
       "      <td>6</td>\n",
       "      <td>55.760369</td>\n",
       "      <td>50.434783</td>\n",
       "      <td>61.290323</td>\n",
       "      <td>30.000000</td>\n",
       "      <td>0.0465</td>\n",
       "      <td>1</td>\n",
       "      <td>I_6_1.pt</td>\n",
       "      <td>/home/k/DATA/graphwalk/torchweights_v2/I_6_1.pt</td>\n",
       "    </tr>\n",
       "    <tr>\n",
       "      <th>2</th>\n",
       "      <td>2</td>\n",
       "      <td>I</td>\n",
       "      <td>6</td>\n",
       "      <td>47.008547</td>\n",
       "      <td>44.859813</td>\n",
       "      <td>29.787234</td>\n",
       "      <td>16.666667</td>\n",
       "      <td>0.0387</td>\n",
       "      <td>2</td>\n",
       "      <td>I_6_2.pt</td>\n",
       "      <td>/home/k/DATA/graphwalk/torchweights_v2/I_6_2.pt</td>\n",
       "    </tr>\n",
       "    <tr>\n",
       "      <th>3</th>\n",
       "      <td>3</td>\n",
       "      <td>I</td>\n",
       "      <td>6</td>\n",
       "      <td>58.750000</td>\n",
       "      <td>57.731959</td>\n",
       "      <td>74.545455</td>\n",
       "      <td>100.000000</td>\n",
       "      <td>0.0530</td>\n",
       "      <td>3</td>\n",
       "      <td>I_6_3.pt</td>\n",
       "      <td>/home/k/DATA/graphwalk/torchweights_v2/I_6_3.pt</td>\n",
       "    </tr>\n",
       "    <tr>\n",
       "      <th>4</th>\n",
       "      <td>4</td>\n",
       "      <td>I</td>\n",
       "      <td>6</td>\n",
       "      <td>51.082251</td>\n",
       "      <td>62.500000</td>\n",
       "      <td>44.897959</td>\n",
       "      <td>40.000000</td>\n",
       "      <td>0.0233</td>\n",
       "      <td>4</td>\n",
       "      <td>I_6_4.pt</td>\n",
       "      <td>/home/k/DATA/graphwalk/torchweights_v2/I_6_4.pt</td>\n",
       "    </tr>\n",
       "  </tbody>\n",
       "</table>\n",
       "</div>"
      ],
      "text/plain": [
       "   I task  L2          1          2          3           4  end_loss  mID  \\\n",
       "0  0    I   6  44.811321  50.000000  45.454545   78.571429    0.0114    0   \n",
       "1  1    I   6  55.760369  50.434783  61.290323   30.000000    0.0465    1   \n",
       "2  2    I   6  47.008547  44.859813  29.787234   16.666667    0.0387    2   \n",
       "3  3    I   6  58.750000  57.731959  74.545455  100.000000    0.0530    3   \n",
       "4  4    I   6  51.082251  62.500000  44.897959   40.000000    0.0233    4   \n",
       "\n",
       "  weight_name                                             path  \n",
       "0    I_6_0.pt  /home/k/DATA/graphwalk/torchweights_v2/I_6_0.pt  \n",
       "1    I_6_1.pt  /home/k/DATA/graphwalk/torchweights_v2/I_6_1.pt  \n",
       "2    I_6_2.pt  /home/k/DATA/graphwalk/torchweights_v2/I_6_2.pt  \n",
       "3    I_6_3.pt  /home/k/DATA/graphwalk/torchweights_v2/I_6_3.pt  \n",
       "4    I_6_4.pt  /home/k/DATA/graphwalk/torchweights_v2/I_6_4.pt  "
      ]
     },
     "execution_count": 3,
     "metadata": {},
     "output_type": "execute_result"
    }
   ],
   "source": [
    "# Load in the model metadata\n",
    "m_path = f\"./torchweights_v2/weights_meta.csv\"\n",
    "w_meta = pd.read_csv(m_path)\n",
    "w_meta.head()"
   ]
  },
  {
   "cell_type": "code",
   "execution_count": 6,
   "metadata": {},
   "outputs": [
    {
     "data": {
      "image/png": "[encoded data removed]",
      "text/plain": [
       "<Figure size 936x216 with 3 Axes>"
      ]
     },
     "metadata": {
      "needs_background": "light"
     },
     "output_type": "display_data"
    }
   ],
   "source": [
    "\n",
    "# Grab the two groups\n",
    "w_i = w_meta[w_meta['task'] == 'I']\n",
    "w_b = w_meta[w_meta['task'] == 'B']\n",
    "\n",
    "dists_l = [1,2,3]\n",
    "plt.figure(figsize=(13,3))\n",
    "for i in dists_l:\n",
    "    plt.subplot(1, len(dists_l), i)\n",
    "    \n",
    "    # Plot the accuracy scores\n",
    "    acci = w_i[['L2', str(i)]].to_numpy()\n",
    "    plt.scatter(acci[:,0], acci[:,1], color='teal')\n",
    "\n",
    "    accb = w_b[['L2', str(i)]].to_numpy()\n",
    "    plt.scatter(accb[:,0], accb[:,1], color='r')\n",
    "\n",
    "    # find line of best fit\n",
    "    ai, bi = np.polyfit(acci[:,0], acci[:,1], 1)\n",
    "    ab, bb = np.polyfit(accb[:,0], accb[:,1], 1)\n",
    "    plt.plot(acci[:,0], ai*acci[:,0]+bi, color='teal', linewidth=3, label='Intermixed')\n",
    "    plt.plot(accb[:,0], ab*accb[:,0]+bb, color='r', linewidth=3, label='Blocked')\n",
    "    \n",
    "    # Make it look pretty now\n",
    "    plt.title(f'DistDiff: {i}', size=20)\n",
    "\n",
    "    if i == 1:\n",
    "        plt.ylabel('Judgement Accuracy', size=18)\n",
    "        plt.yticks([0, 25, 50, 75, 100], size=15)\n",
    "        plt.legend()\n",
    "    else:\n",
    "        plt.yticks([])\n",
    "        \n",
    "    \n",
    "    plt.xlabel('Layer 2 width', size=18)\n",
    "    plt.ylim(0,100)\n",
    "    plt.xticks([6, 9, 12, 15, 18], size=15)"
   ]
  },
  {
   "cell_type": "code",
   "execution_count": null,
   "metadata": {},
   "outputs": [],
   "source": []
  },
  {
   "cell_type": "code",
   "execution_count": null,
   "metadata": {},
   "outputs": [],
   "source": []
  },
  {
   "cell_type": "code",
   "execution_count": null,
   "metadata": {},
   "outputs": [],
   "source": []
  }
 ],
 "metadata": {
  "kernelspec": {
   "display_name": "Python 3",
   "language": "python",
   "name": "python3"
  },
  "language_info": {
   "codemirror_mode": {
    "name": "ipython",
    "version": 3
   },
   "file_extension": ".py",
   "mimetype": "text/x-python",
   "name": "python",
   "nbconvert_exporter": "python",
   "pygments_lexer": "ipython3",
   "version": "3.9.5"
  }
 },
 "nbformat": 4,
 "nbformat_minor": 2
}
